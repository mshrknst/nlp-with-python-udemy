{
 "cells": [
  {
   "cell_type": "markdown",
   "metadata": {},
   "source": [
    "___\n",
    "\n",
    "<a href='http://www.pieriandata.com'> <img src='../Pierian_Data_Logo.png' /></a>\n",
    "___\n",
    "# Question and Answer Chat Bots"
   ]
  },
  {
   "cell_type": "markdown",
   "metadata": {},
   "source": [
    "----\n",
    "\n",
    "------"
   ]
  },
  {
   "cell_type": "markdown",
   "metadata": {},
   "source": [
    "## Loading the Data\n",
    "\n",
    "We will be working with the Babi Data Set from Facebook Research.\n",
    "\n",
    "Full Details: https://research.fb.com/downloads/babi/\n",
    "\n",
    "- Jason Weston, Antoine Bordes, Sumit Chopra, Tomas Mikolov, Alexander M. Rush,\n",
    "  \"Towards AI-Complete Question Answering: A Set of Prerequisite Toy Tasks\",\n",
    "  http://arxiv.org/abs/1502.05698\n"
   ]
  },
  {
   "cell_type": "code",
   "execution_count": 1,
   "metadata": {
    "collapsed": true
   },
   "outputs": [],
   "source": [
    "import pickle\n",
    "import numpy as np"
   ]
  },
  {
   "cell_type": "code",
   "execution_count": 2,
   "metadata": {
    "collapsed": true
   },
   "outputs": [],
   "source": [
    "with open(\"train_qa.txt\", \"rb\") as fp:   # Unpickling\n",
    "    train_data =  pickle.load(fp)"
   ]
  },
  {
   "cell_type": "code",
   "execution_count": 3,
   "metadata": {
    "collapsed": true
   },
   "outputs": [],
   "source": [
    "with open(\"test_qa.txt\", \"rb\") as fp:   # Unpickling\n",
    "    test_data =  pickle.load(fp)"
   ]
  },
  {
   "cell_type": "markdown",
   "metadata": {},
   "source": [
    "----"
   ]
  },
  {
   "cell_type": "markdown",
   "metadata": {},
   "source": [
    "## Exploring the Format of the Data"
   ]
  },
  {
   "cell_type": "code",
   "execution_count": 4,
   "metadata": {},
   "outputs": [
    {
     "data": {
      "text/plain": [
       "list"
      ]
     },
     "execution_count": 4,
     "metadata": {},
     "output_type": "execute_result"
    }
   ],
   "source": [
    "type(test_data)"
   ]
  },
  {
   "cell_type": "code",
   "execution_count": 5,
   "metadata": {},
   "outputs": [
    {
     "data": {
      "text/plain": [
       "list"
      ]
     },
     "execution_count": 5,
     "metadata": {},
     "output_type": "execute_result"
    }
   ],
   "source": [
    "type(train_data)"
   ]
  },
  {
   "cell_type": "code",
   "execution_count": 6,
   "metadata": {},
   "outputs": [
    {
     "data": {
      "text/plain": [
       "1000"
      ]
     },
     "execution_count": 6,
     "metadata": {},
     "output_type": "execute_result"
    }
   ],
   "source": [
    "len(test_data)"
   ]
  },
  {
   "cell_type": "code",
   "execution_count": 7,
   "metadata": {},
   "outputs": [
    {
     "data": {
      "text/plain": [
       "10000"
      ]
     },
     "execution_count": 7,
     "metadata": {},
     "output_type": "execute_result"
    }
   ],
   "source": [
    "len(train_data)"
   ]
  },
  {
   "cell_type": "code",
   "execution_count": 8,
   "metadata": {},
   "outputs": [
    {
     "data": {
      "text/plain": [
       "(['Mary',\n",
       "  'moved',\n",
       "  'to',\n",
       "  'the',\n",
       "  'bathroom',\n",
       "  '.',\n",
       "  'Sandra',\n",
       "  'journeyed',\n",
       "  'to',\n",
       "  'the',\n",
       "  'bedroom',\n",
       "  '.'],\n",
       " ['Is', 'Sandra', 'in', 'the', 'hallway', '?'],\n",
       " 'no')"
      ]
     },
     "execution_count": 8,
     "metadata": {},
     "output_type": "execute_result"
    }
   ],
   "source": [
    "train_data[0]"
   ]
  },
  {
   "cell_type": "code",
   "execution_count": 9,
   "metadata": {},
   "outputs": [
    {
     "data": {
      "text/plain": [
       "'Mary moved to the bathroom . Sandra journeyed to the bedroom .'"
      ]
     },
     "execution_count": 9,
     "metadata": {},
     "output_type": "execute_result"
    }
   ],
   "source": [
    "' '.join(train_data[0][0])"
   ]
  },
  {
   "cell_type": "code",
   "execution_count": 10,
   "metadata": {},
   "outputs": [
    {
     "data": {
      "text/plain": [
       "'Is Sandra in the hallway ?'"
      ]
     },
     "execution_count": 10,
     "metadata": {},
     "output_type": "execute_result"
    }
   ],
   "source": [
    "' '.join(train_data[0][1])"
   ]
  },
  {
   "cell_type": "code",
   "execution_count": 11,
   "metadata": {},
   "outputs": [
    {
     "data": {
      "text/plain": [
       "'no'"
      ]
     },
     "execution_count": 11,
     "metadata": {},
     "output_type": "execute_result"
    }
   ],
   "source": [
    "train_data[0][2]"
   ]
  },
  {
   "cell_type": "markdown",
   "metadata": {},
   "source": [
    "-----\n",
    "\n",
    "## Setting up Vocabulary of All Words"
   ]
  },
  {
   "cell_type": "code",
   "execution_count": 12,
   "metadata": {
    "collapsed": true
   },
   "outputs": [],
   "source": [
    "# Create a set that holds the vocab words\n",
    "vocab = set()"
   ]
  },
  {
   "cell_type": "code",
   "execution_count": 13,
   "metadata": {
    "collapsed": true
   },
   "outputs": [],
   "source": [
    "all_data = test_data + train_data"
   ]
  },
  {
   "cell_type": "code",
   "execution_count": 14,
   "metadata": {
    "collapsed": true
   },
   "outputs": [],
   "source": [
    "for story, question , answer in all_data:\n",
    "    # In case you don't know what a union of sets is:\n",
    "    # https://www.programiz.com/python-programming/methods/set/union\n",
    "    vocab = vocab.union(set(story))\n",
    "    vocab = vocab.union(set(question))"
   ]
  },
  {
   "cell_type": "code",
   "execution_count": 15,
   "metadata": {
    "collapsed": true
   },
   "outputs": [],
   "source": [
    "vocab.add('no')\n",
    "vocab.add('yes')"
   ]
  },
  {
   "cell_type": "code",
   "execution_count": 16,
   "metadata": {},
   "outputs": [
    {
     "data": {
      "text/plain": [
       "{'.',\n",
       " '?',\n",
       " 'Daniel',\n",
       " 'Is',\n",
       " 'John',\n",
       " 'Mary',\n",
       " 'Sandra',\n",
       " 'apple',\n",
       " 'back',\n",
       " 'bathroom',\n",
       " 'bedroom',\n",
       " 'discarded',\n",
       " 'down',\n",
       " 'dropped',\n",
       " 'football',\n",
       " 'garden',\n",
       " 'got',\n",
       " 'grabbed',\n",
       " 'hallway',\n",
       " 'in',\n",
       " 'journeyed',\n",
       " 'kitchen',\n",
       " 'left',\n",
       " 'milk',\n",
       " 'moved',\n",
       " 'no',\n",
       " 'office',\n",
       " 'picked',\n",
       " 'put',\n",
       " 'the',\n",
       " 'there',\n",
       " 'to',\n",
       " 'took',\n",
       " 'travelled',\n",
       " 'up',\n",
       " 'went',\n",
       " 'yes'}"
      ]
     },
     "execution_count": 16,
     "metadata": {},
     "output_type": "execute_result"
    }
   ],
   "source": [
    "vocab"
   ]
  },
  {
   "cell_type": "code",
   "execution_count": 17,
   "metadata": {
    "collapsed": true
   },
   "outputs": [],
   "source": [
    "vocab_len = len(vocab) + 1 #we add an extra space to hold a 0 for Keras's pad_sequences"
   ]
  },
  {
   "cell_type": "code",
   "execution_count": 18,
   "metadata": {
    "collapsed": true
   },
   "outputs": [],
   "source": [
    "max_story_len = max([len(data[0]) for data in all_data])"
   ]
  },
  {
   "cell_type": "code",
   "execution_count": 19,
   "metadata": {},
   "outputs": [
    {
     "data": {
      "text/plain": [
       "156"
      ]
     },
     "execution_count": 19,
     "metadata": {},
     "output_type": "execute_result"
    }
   ],
   "source": [
    "max_story_len"
   ]
  },
  {
   "cell_type": "code",
   "execution_count": 20,
   "metadata": {
    "collapsed": true
   },
   "outputs": [],
   "source": [
    "max_question_len = max([len(data[1]) for data in all_data])"
   ]
  },
  {
   "cell_type": "code",
   "execution_count": 21,
   "metadata": {},
   "outputs": [
    {
     "data": {
      "text/plain": [
       "6"
      ]
     },
     "execution_count": 21,
     "metadata": {},
     "output_type": "execute_result"
    }
   ],
   "source": [
    "max_question_len"
   ]
  },
  {
   "cell_type": "markdown",
   "metadata": {},
   "source": [
    "## Vectorizing the Data"
   ]
  },
  {
   "cell_type": "code",
   "execution_count": 22,
   "metadata": {},
   "outputs": [
    {
     "data": {
      "text/plain": [
       "{'.',\n",
       " '?',\n",
       " 'Daniel',\n",
       " 'Is',\n",
       " 'John',\n",
       " 'Mary',\n",
       " 'Sandra',\n",
       " 'apple',\n",
       " 'back',\n",
       " 'bathroom',\n",
       " 'bedroom',\n",
       " 'discarded',\n",
       " 'down',\n",
       " 'dropped',\n",
       " 'football',\n",
       " 'garden',\n",
       " 'got',\n",
       " 'grabbed',\n",
       " 'hallway',\n",
       " 'in',\n",
       " 'journeyed',\n",
       " 'kitchen',\n",
       " 'left',\n",
       " 'milk',\n",
       " 'moved',\n",
       " 'no',\n",
       " 'office',\n",
       " 'picked',\n",
       " 'put',\n",
       " 'the',\n",
       " 'there',\n",
       " 'to',\n",
       " 'took',\n",
       " 'travelled',\n",
       " 'up',\n",
       " 'went',\n",
       " 'yes'}"
      ]
     },
     "execution_count": 22,
     "metadata": {},
     "output_type": "execute_result"
    }
   ],
   "source": [
    "vocab"
   ]
  },
  {
   "cell_type": "code",
   "execution_count": 23,
   "metadata": {
    "collapsed": true
   },
   "outputs": [],
   "source": [
    "# Reserve 0 for pad_sequences\n",
    "vocab_size = len(vocab) + 1"
   ]
  },
  {
   "cell_type": "markdown",
   "metadata": {},
   "source": [
    "-----------"
   ]
  },
  {
   "cell_type": "code",
   "execution_count": 24,
   "metadata": {},
   "outputs": [
    {
     "name": "stderr",
     "output_type": "stream",
     "text": [
      "Using TensorFlow backend.\n"
     ]
    }
   ],
   "source": [
    "from keras.preprocessing.sequence import pad_sequences\n",
    "from keras.preprocessing.text import Tokenizer"
   ]
  },
  {
   "cell_type": "code",
   "execution_count": 25,
   "metadata": {
    "collapsed": true
   },
   "outputs": [],
   "source": [
    "# integer encode sequences of words\n",
    "tokenizer = Tokenizer(filters=[])\n",
    "tokenizer.fit_on_texts(vocab)"
   ]
  },
  {
   "cell_type": "code",
   "execution_count": 26,
   "metadata": {},
   "outputs": [
    {
     "data": {
      "text/plain": [
       "{'.': 27,\n",
       " '?': 12,\n",
       " 'apple': 33,\n",
       " 'back': 32,\n",
       " 'bathroom': 21,\n",
       " 'bedroom': 3,\n",
       " 'daniel': 14,\n",
       " 'discarded': 28,\n",
       " 'down': 16,\n",
       " 'dropped': 25,\n",
       " 'football': 10,\n",
       " 'garden': 2,\n",
       " 'got': 20,\n",
       " 'grabbed': 7,\n",
       " 'hallway': 36,\n",
       " 'in': 37,\n",
       " 'is': 24,\n",
       " 'john': 11,\n",
       " 'journeyed': 4,\n",
       " 'kitchen': 26,\n",
       " 'left': 29,\n",
       " 'mary': 1,\n",
       " 'milk': 35,\n",
       " 'moved': 8,\n",
       " 'no': 30,\n",
       " 'office': 34,\n",
       " 'picked': 13,\n",
       " 'put': 22,\n",
       " 'sandra': 31,\n",
       " 'the': 5,\n",
       " 'there': 19,\n",
       " 'to': 6,\n",
       " 'took': 9,\n",
       " 'travelled': 18,\n",
       " 'up': 23,\n",
       " 'went': 17,\n",
       " 'yes': 15}"
      ]
     },
     "execution_count": 26,
     "metadata": {},
     "output_type": "execute_result"
    }
   ],
   "source": [
    "tokenizer.word_index"
   ]
  },
  {
   "cell_type": "code",
   "execution_count": 27,
   "metadata": {
    "collapsed": true
   },
   "outputs": [],
   "source": [
    "train_story_text = []\n",
    "train_question_text = []\n",
    "train_answers = []\n",
    "\n",
    "for story,question,answer in train_data:\n",
    "    train_story_text.append(story)\n",
    "    train_question_text.append(question)"
   ]
  },
  {
   "cell_type": "code",
   "execution_count": 28,
   "metadata": {
    "collapsed": true
   },
   "outputs": [],
   "source": [
    "train_story_seq = tokenizer.texts_to_sequences(train_story_text)"
   ]
  },
  {
   "cell_type": "code",
   "execution_count": 29,
   "metadata": {},
   "outputs": [
    {
     "data": {
      "text/plain": [
       "10000"
      ]
     },
     "execution_count": 29,
     "metadata": {},
     "output_type": "execute_result"
    }
   ],
   "source": [
    "len(train_story_text)"
   ]
  },
  {
   "cell_type": "code",
   "execution_count": 30,
   "metadata": {},
   "outputs": [
    {
     "data": {
      "text/plain": [
       "10000"
      ]
     },
     "execution_count": 30,
     "metadata": {},
     "output_type": "execute_result"
    }
   ],
   "source": [
    "len(train_story_seq)"
   ]
  },
  {
   "cell_type": "code",
   "execution_count": 31,
   "metadata": {
    "collapsed": true
   },
   "outputs": [],
   "source": [
    "# word_index = tokenizer.word_index"
   ]
  },
  {
   "cell_type": "markdown",
   "metadata": {},
   "source": [
    "### Functionalize Vectorization"
   ]
  },
  {
   "cell_type": "code",
   "execution_count": 32,
   "metadata": {
    "collapsed": true
   },
   "outputs": [],
   "source": [
    "def vectorize_stories(data, word_index=tokenizer.word_index, max_story_len=max_story_len,max_question_len=max_question_len):\n",
    "    '''\n",
    "    INPUT: \n",
    "    \n",
    "    data: consisting of Stories,Queries,and Answers\n",
    "    word_index: word index dictionary from tokenizer\n",
    "    max_story_len: the length of the longest story (used for pad_sequences function)\n",
    "    max_question_len: length of the longest question (used for pad_sequences function)\n",
    "\n",
    "\n",
    "    OUTPUT:\n",
    "    \n",
    "    Vectorizes the stories,questions, and answers into padded sequences. We first loop for every story, query , and\n",
    "    answer in the data. Then we convert the raw words to an word index value. Then we append each set to their appropriate\n",
    "    output list. Then once we have converted the words to numbers, we pad the sequences so they are all of equal length.\n",
    "    \n",
    "    Returns this in the form of a tuple (X,Xq,Y) (padded based on max lengths)\n",
    "    '''\n",
    "    \n",
    "    \n",
    "    # X = STORIES\n",
    "    X = []\n",
    "    # Xq = QUERY/QUESTION\n",
    "    Xq = []\n",
    "    # Y = CORRECT ANSWER\n",
    "    Y = []\n",
    "    \n",
    "    \n",
    "    for story, query, answer in data:\n",
    "        \n",
    "        # Grab the word index for every word in story\n",
    "        x = [word_index[word.lower()] for word in story]\n",
    "        # Grab the word index for every word in query\n",
    "        xq = [word_index[word.lower()] for word in query]\n",
    "        \n",
    "        # Grab the Answers (either Yes/No so we don't need to use list comprehension here)\n",
    "        # Index 0 is reserved so we're going to use + 1\n",
    "        y = np.zeros(len(word_index) + 1)\n",
    "        \n",
    "        # Now that y is all zeros and we know its just Yes/No , we can use numpy logic to create this assignment\n",
    "        #\n",
    "        y[word_index[answer]] = 1\n",
    "        \n",
    "        # Append each set of story,query, and answer to their respective holding lists\n",
    "        X.append(x)\n",
    "        Xq.append(xq)\n",
    "        Y.append(y)\n",
    "        \n",
    "    # Finally, pad the sequences based on their max length so the RNN can be trained on uniformly long sequences.\n",
    "        \n",
    "    # RETURN TUPLE FOR UNPACKING\n",
    "    return (pad_sequences(X, maxlen=max_story_len),pad_sequences(Xq, maxlen=max_question_len), np.array(Y))"
   ]
  },
  {
   "cell_type": "code",
   "execution_count": 33,
   "metadata": {
    "collapsed": true
   },
   "outputs": [],
   "source": [
    "inputs_train, queries_train, answers_train = vectorize_stories(train_data)"
   ]
  },
  {
   "cell_type": "code",
   "execution_count": 34,
   "metadata": {
    "collapsed": true
   },
   "outputs": [],
   "source": [
    "inputs_test, queries_test, answers_test = vectorize_stories(test_data)"
   ]
  },
  {
   "cell_type": "code",
   "execution_count": 35,
   "metadata": {},
   "outputs": [
    {
     "data": {
      "text/plain": [
       "array([[ 0,  0,  0, ...,  5,  3, 27],\n",
       "       [ 0,  0,  0, ...,  5,  2, 27],\n",
       "       [ 0,  0,  0, ...,  5,  2, 27],\n",
       "       ...,\n",
       "       [ 0,  0,  0, ...,  5, 33, 27],\n",
       "       [ 0,  0,  0, ...,  5,  2, 27],\n",
       "       [ 0,  0,  0, ..., 33, 19, 27]])"
      ]
     },
     "execution_count": 35,
     "metadata": {},
     "output_type": "execute_result"
    }
   ],
   "source": [
    "inputs_test"
   ]
  },
  {
   "cell_type": "code",
   "execution_count": 36,
   "metadata": {},
   "outputs": [
    {
     "data": {
      "text/plain": [
       "array([[24, 11, 37,  5, 26, 12],\n",
       "       [24, 11, 37,  5, 26, 12],\n",
       "       [24, 11, 37,  5,  2, 12],\n",
       "       ...,\n",
       "       [24,  1, 37,  5,  3, 12],\n",
       "       [24, 31, 37,  5,  2, 12],\n",
       "       [24,  1, 37,  5,  2, 12]])"
      ]
     },
     "execution_count": 36,
     "metadata": {},
     "output_type": "execute_result"
    }
   ],
   "source": [
    "queries_test"
   ]
  },
  {
   "cell_type": "code",
   "execution_count": 37,
   "metadata": {},
   "outputs": [
    {
     "data": {
      "text/plain": [
       "array([[0., 0., 0., ..., 0., 0., 0.],\n",
       "       [0., 0., 0., ..., 0., 0., 0.],\n",
       "       [0., 0., 0., ..., 0., 0., 0.],\n",
       "       ...,\n",
       "       [0., 0., 0., ..., 0., 0., 0.],\n",
       "       [0., 0., 0., ..., 0., 0., 0.],\n",
       "       [0., 0., 0., ..., 0., 0., 0.]])"
      ]
     },
     "execution_count": 37,
     "metadata": {},
     "output_type": "execute_result"
    }
   ],
   "source": [
    "answers_test"
   ]
  },
  {
   "cell_type": "code",
   "execution_count": 38,
   "metadata": {},
   "outputs": [
    {
     "data": {
      "text/plain": [
       "array([  0.,   0.,   0.,   0.,   0.,   0.,   0.,   0.,   0.,   0.,   0.,\n",
       "         0.,   0.,   0.,   0., 497.,   0.,   0.,   0.,   0.,   0.,   0.,\n",
       "         0.,   0.,   0.,   0.,   0.,   0.,   0.,   0., 503.,   0.,   0.,\n",
       "         0.,   0.,   0.,   0.,   0.])"
      ]
     },
     "execution_count": 38,
     "metadata": {},
     "output_type": "execute_result"
    }
   ],
   "source": [
    "sum(answers_test)"
   ]
  },
  {
   "cell_type": "code",
   "execution_count": 39,
   "metadata": {},
   "outputs": [
    {
     "data": {
      "text/plain": [
       "15"
      ]
     },
     "execution_count": 39,
     "metadata": {},
     "output_type": "execute_result"
    }
   ],
   "source": [
    "tokenizer.word_index['yes']"
   ]
  },
  {
   "cell_type": "code",
   "execution_count": 40,
   "metadata": {},
   "outputs": [
    {
     "data": {
      "text/plain": [
       "30"
      ]
     },
     "execution_count": 40,
     "metadata": {},
     "output_type": "execute_result"
    }
   ],
   "source": [
    "tokenizer.word_index['no']"
   ]
  },
  {
   "cell_type": "markdown",
   "metadata": {},
   "source": [
    "## Creating the Model"
   ]
  },
  {
   "cell_type": "code",
   "execution_count": 41,
   "metadata": {
    "collapsed": true
   },
   "outputs": [],
   "source": [
    "from keras.models import Sequential, Model\n",
    "from keras.layers.embeddings import Embedding\n",
    "from keras.layers import Input, Activation, Dense, Permute, Dropout\n",
    "from keras.layers import add, dot, concatenate\n",
    "from keras.layers import LSTM"
   ]
  },
  {
   "cell_type": "markdown",
   "metadata": {},
   "source": [
    "### Placeholders for Inputs\n",
    "\n",
    "Recall we technically have two inputs, stories and questions. So we need to use placeholders. `Input()` is used to instantiate a Keras tensor.\n"
   ]
  },
  {
   "cell_type": "code",
   "execution_count": 42,
   "metadata": {
    "collapsed": true
   },
   "outputs": [],
   "source": [
    "input_sequence = Input((max_story_len,))\n",
    "question = Input((max_question_len,))"
   ]
  },
  {
   "cell_type": "markdown",
   "metadata": {
    "collapsed": true
   },
   "source": [
    "### Building the Networks\n",
    "\n",
    "To understand why we chose this setup, make sure to read the paper we are using:\n",
    "\n",
    "* Sainbayar Sukhbaatar, Arthur Szlam, Jason Weston, Rob Fergus,\n",
    "  \"End-To-End Memory Networks\",\n",
    "  http://arxiv.org/abs/1503.08895"
   ]
  },
  {
   "cell_type": "markdown",
   "metadata": {},
   "source": [
    "## Encoders\n",
    "\n",
    "### Input Encoder m"
   ]
  },
  {
   "cell_type": "code",
   "execution_count": 43,
   "metadata": {
    "collapsed": true
   },
   "outputs": [],
   "source": [
    "# Input gets embedded to a sequence of vectors\n",
    "input_encoder_m = Sequential()\n",
    "input_encoder_m.add(Embedding(input_dim=vocab_size,output_dim=64))\n",
    "input_encoder_m.add(Dropout(0.3))\n",
    "\n",
    "# This encoder will output:\n",
    "# (samples, story_maxlen, embedding_dim)"
   ]
  },
  {
   "cell_type": "markdown",
   "metadata": {},
   "source": [
    "### Input Encoder c"
   ]
  },
  {
   "cell_type": "code",
   "execution_count": 44,
   "metadata": {
    "collapsed": true
   },
   "outputs": [],
   "source": [
    "# embed the input into a sequence of vectors of size query_maxlen\n",
    "input_encoder_c = Sequential()\n",
    "input_encoder_c.add(Embedding(input_dim=vocab_size,output_dim=max_question_len))\n",
    "input_encoder_c.add(Dropout(0.3))\n",
    "# output: (samples, story_maxlen, query_maxlen)"
   ]
  },
  {
   "cell_type": "markdown",
   "metadata": {},
   "source": [
    "### Question Encoder"
   ]
  },
  {
   "cell_type": "code",
   "execution_count": 45,
   "metadata": {
    "collapsed": true
   },
   "outputs": [],
   "source": [
    "# embed the question into a sequence of vectors\n",
    "question_encoder = Sequential()\n",
    "question_encoder.add(Embedding(input_dim=vocab_size,\n",
    "                               output_dim=64,\n",
    "                               input_length=max_question_len))\n",
    "question_encoder.add(Dropout(0.3))\n",
    "# output: (samples, query_maxlen, embedding_dim)"
   ]
  },
  {
   "cell_type": "markdown",
   "metadata": {},
   "source": [
    "### Encode the Sequences"
   ]
  },
  {
   "cell_type": "code",
   "execution_count": 46,
   "metadata": {
    "collapsed": true
   },
   "outputs": [],
   "source": [
    "# encode input sequence and questions (which are indices)\n",
    "# to sequences of dense vectors\n",
    "input_encoded_m = input_encoder_m(input_sequence)\n",
    "input_encoded_c = input_encoder_c(input_sequence)\n",
    "question_encoded = question_encoder(question)"
   ]
  },
  {
   "cell_type": "markdown",
   "metadata": {},
   "source": [
    "##### Use dot product to compute the match between first input vector seq and the query"
   ]
  },
  {
   "cell_type": "code",
   "execution_count": 47,
   "metadata": {
    "collapsed": true
   },
   "outputs": [],
   "source": [
    "# shape: `(samples, story_maxlen, query_maxlen)`\n",
    "match = dot([input_encoded_m, question_encoded], axes=(2, 2))\n",
    "match = Activation('softmax')(match)"
   ]
  },
  {
   "cell_type": "markdown",
   "metadata": {},
   "source": [
    "#### Add this match matrix with the second input vector sequence"
   ]
  },
  {
   "cell_type": "code",
   "execution_count": 48,
   "metadata": {
    "collapsed": true
   },
   "outputs": [],
   "source": [
    "# add the match matrix with the second input vector sequence\n",
    "response = add([match, input_encoded_c])  # (samples, story_maxlen, query_maxlen)\n",
    "response = Permute((2, 1))(response)  # (samples, query_maxlen, story_maxlen)"
   ]
  },
  {
   "cell_type": "markdown",
   "metadata": {},
   "source": [
    "#### Concatenate"
   ]
  },
  {
   "cell_type": "code",
   "execution_count": 49,
   "metadata": {
    "collapsed": true
   },
   "outputs": [],
   "source": [
    "# concatenate the match matrix with the question vector sequence\n",
    "answer = concatenate([response, question_encoded])"
   ]
  },
  {
   "cell_type": "code",
   "execution_count": 50,
   "metadata": {},
   "outputs": [
    {
     "data": {
      "text/plain": [
       "<tf.Tensor 'concatenate_1/concat:0' shape=(?, 6, 220) dtype=float32>"
      ]
     },
     "execution_count": 50,
     "metadata": {},
     "output_type": "execute_result"
    }
   ],
   "source": [
    "answer"
   ]
  },
  {
   "cell_type": "code",
   "execution_count": 51,
   "metadata": {
    "collapsed": true
   },
   "outputs": [],
   "source": [
    "# Reduce with RNN (LSTM)\n",
    "answer = LSTM(32)(answer)  # (samples, 32)"
   ]
  },
  {
   "cell_type": "code",
   "execution_count": 52,
   "metadata": {
    "collapsed": true
   },
   "outputs": [],
   "source": [
    "# Regularization with Dropout\n",
    "answer = Dropout(0.5)(answer)\n",
    "answer = Dense(vocab_size)(answer)  # (samples, vocab_size)"
   ]
  },
  {
   "cell_type": "code",
   "execution_count": 53,
   "metadata": {
    "collapsed": true
   },
   "outputs": [],
   "source": [
    "# we output a probability distribution over the vocabulary\n",
    "answer = Activation('softmax')(answer)\n",
    "\n",
    "# build the final model\n",
    "model = Model([input_sequence, question], answer)\n",
    "model.compile(optimizer='rmsprop', loss='categorical_crossentropy',\n",
    "              metrics=['accuracy'])"
   ]
  },
  {
   "cell_type": "code",
   "execution_count": 54,
   "metadata": {},
   "outputs": [
    {
     "name": "stdout",
     "output_type": "stream",
     "text": [
      "__________________________________________________________________________________________________\n",
      "Layer (type)                    Output Shape         Param #     Connected to                     \n",
      "==================================================================================================\n",
      "input_1 (InputLayer)            (None, 156)          0                                            \n",
      "__________________________________________________________________________________________________\n",
      "input_2 (InputLayer)            (None, 6)            0                                            \n",
      "__________________________________________________________________________________________________\n",
      "sequential_1 (Sequential)       multiple             2432        input_1[0][0]                    \n",
      "__________________________________________________________________________________________________\n",
      "sequential_3 (Sequential)       (None, 6, 64)        2432        input_2[0][0]                    \n",
      "__________________________________________________________________________________________________\n",
      "dot_1 (Dot)                     (None, 156, 6)       0           sequential_1[1][0]               \n",
      "                                                                 sequential_3[1][0]               \n",
      "__________________________________________________________________________________________________\n",
      "activation_1 (Activation)       (None, 156, 6)       0           dot_1[0][0]                      \n",
      "__________________________________________________________________________________________________\n",
      "sequential_2 (Sequential)       multiple             228         input_1[0][0]                    \n",
      "__________________________________________________________________________________________________\n",
      "add_1 (Add)                     (None, 156, 6)       0           activation_1[0][0]               \n",
      "                                                                 sequential_2[1][0]               \n",
      "__________________________________________________________________________________________________\n",
      "permute_1 (Permute)             (None, 6, 156)       0           add_1[0][0]                      \n",
      "__________________________________________________________________________________________________\n",
      "concatenate_1 (Concatenate)     (None, 6, 220)       0           permute_1[0][0]                  \n",
      "                                                                 sequential_3[1][0]               \n",
      "__________________________________________________________________________________________________\n",
      "lstm_1 (LSTM)                   (None, 32)           32384       concatenate_1[0][0]              \n",
      "__________________________________________________________________________________________________\n",
      "dropout_4 (Dropout)             (None, 32)           0           lstm_1[0][0]                     \n",
      "__________________________________________________________________________________________________\n",
      "dense_1 (Dense)                 (None, 38)           1254        dropout_4[0][0]                  \n",
      "__________________________________________________________________________________________________\n",
      "activation_2 (Activation)       (None, 38)           0           dense_1[0][0]                    \n",
      "==================================================================================================\n",
      "Total params: 38,730\n",
      "Trainable params: 38,730\n",
      "Non-trainable params: 0\n",
      "__________________________________________________________________________________________________\n"
     ]
    }
   ],
   "source": [
    "model.summary()"
   ]
  },
  {
   "cell_type": "code",
   "execution_count": 55,
   "metadata": {},
   "outputs": [
    {
     "name": "stdout",
     "output_type": "stream",
     "text": [
      "Train on 10000 samples, validate on 1000 samples\n",
      "Epoch 1/100\n",
      "10000/10000 [==============================] - 5s 541us/step - loss: 0.8770 - acc: 0.5007 - val_loss: 0.6940 - val_acc: 0.4970\n",
      "Epoch 2/100\n",
      "10000/10000 [==============================] - 4s 368us/step - loss: 0.7029 - acc: 0.4987 - val_loss: 0.6938 - val_acc: 0.5030\n",
      "Epoch 3/100\n",
      "10000/10000 [==============================] - 4s 358us/step - loss: 0.6960 - acc: 0.4971 - val_loss: 0.6932 - val_acc: 0.5030\n",
      "Epoch 4/100\n",
      "10000/10000 [==============================] - 4s 362us/step - loss: 0.6951 - acc: 0.4988 - val_loss: 0.6940 - val_acc: 0.5030\n",
      "Epoch 5/100\n",
      "10000/10000 [==============================] - 4s 361us/step - loss: 0.6947 - acc: 0.4969 - val_loss: 0.6935 - val_acc: 0.5030\n",
      "Epoch 6/100\n",
      "10000/10000 [==============================] - 4s 364us/step - loss: 0.6949 - acc: 0.4903 - val_loss: 0.6945 - val_acc: 0.4970\n",
      "Epoch 7/100\n",
      "10000/10000 [==============================] - 4s 360us/step - loss: 0.6947 - acc: 0.4940 - val_loss: 0.6938 - val_acc: 0.4970\n",
      "Epoch 8/100\n",
      "10000/10000 [==============================] - 4s 360us/step - loss: 0.6944 - acc: 0.5030 - val_loss: 0.6935 - val_acc: 0.4790\n",
      "Epoch 9/100\n",
      "10000/10000 [==============================] - 4s 360us/step - loss: 0.6940 - acc: 0.4990 - val_loss: 0.6937 - val_acc: 0.4870\n",
      "Epoch 10/100\n",
      "10000/10000 [==============================] - 4s 363us/step - loss: 0.6940 - acc: 0.5008 - val_loss: 0.6938 - val_acc: 0.4780\n",
      "Epoch 11/100\n",
      "10000/10000 [==============================] - 4s 366us/step - loss: 0.6927 - acc: 0.5148 - val_loss: 0.6942 - val_acc: 0.4950\n",
      "Epoch 12/100\n",
      "10000/10000 [==============================] - 4s 361us/step - loss: 0.6919 - acc: 0.5199 - val_loss: 0.6926 - val_acc: 0.4890\n",
      "Epoch 13/100\n",
      "10000/10000 [==============================] - 4s 362us/step - loss: 0.6878 - acc: 0.5379 - val_loss: 0.6836 - val_acc: 0.5540\n",
      "Epoch 14/100\n",
      "10000/10000 [==============================] - 4s 363us/step - loss: 0.6721 - acc: 0.5862 - val_loss: 0.6566 - val_acc: 0.6370\n",
      "Epoch 15/100\n",
      "10000/10000 [==============================] - 4s 363us/step - loss: 0.6521 - acc: 0.6156 - val_loss: 0.6352 - val_acc: 0.6350\n",
      "Epoch 16/100\n",
      "10000/10000 [==============================] - 4s 363us/step - loss: 0.6373 - acc: 0.6415 - val_loss: 0.6219 - val_acc: 0.6580\n",
      "Epoch 17/100\n",
      "10000/10000 [==============================] - 4s 363us/step - loss: 0.6306 - acc: 0.6465 - val_loss: 0.6120 - val_acc: 0.6750\n",
      "Epoch 18/100\n",
      "10000/10000 [==============================] - 4s 363us/step - loss: 0.6143 - acc: 0.6706 - val_loss: 0.5912 - val_acc: 0.6990\n",
      "Epoch 19/100\n",
      "10000/10000 [==============================] - 4s 361us/step - loss: 0.5939 - acc: 0.6995 - val_loss: 0.5679 - val_acc: 0.7220\n",
      "Epoch 20/100\n",
      "10000/10000 [==============================] - 4s 364us/step - loss: 0.5660 - acc: 0.7135 - val_loss: 0.5542 - val_acc: 0.7450\n",
      "Epoch 21/100\n",
      "10000/10000 [==============================] - 4s 363us/step - loss: 0.5472 - acc: 0.7354 - val_loss: 0.5316 - val_acc: 0.7530\n",
      "Epoch 22/100\n",
      "10000/10000 [==============================] - 4s 367us/step - loss: 0.5323 - acc: 0.7437 - val_loss: 0.5245 - val_acc: 0.7490\n",
      "Epoch 23/100\n",
      "10000/10000 [==============================] - 4s 359us/step - loss: 0.5132 - acc: 0.7613 - val_loss: 0.5189 - val_acc: 0.7480\n",
      "Epoch 24/100\n",
      "10000/10000 [==============================] - 4s 362us/step - loss: 0.5035 - acc: 0.7682 - val_loss: 0.4882 - val_acc: 0.7770\n",
      "Epoch 25/100\n",
      "10000/10000 [==============================] - 4s 360us/step - loss: 0.4871 - acc: 0.7796 - val_loss: 0.4838 - val_acc: 0.7870\n",
      "Epoch 26/100\n",
      "10000/10000 [==============================] - 4s 364us/step - loss: 0.4716 - acc: 0.7916 - val_loss: 0.4775 - val_acc: 0.7930\n",
      "Epoch 27/100\n",
      "10000/10000 [==============================] - 4s 365us/step - loss: 0.4564 - acc: 0.7979 - val_loss: 0.4580 - val_acc: 0.7830\n",
      "Epoch 28/100\n",
      "10000/10000 [==============================] - 4s 361us/step - loss: 0.4507 - acc: 0.8035 - val_loss: 0.4582 - val_acc: 0.8020\n",
      "Epoch 29/100\n",
      "10000/10000 [==============================] - 4s 361us/step - loss: 0.4417 - acc: 0.8105 - val_loss: 0.4473 - val_acc: 0.8000\n",
      "Epoch 30/100\n",
      "10000/10000 [==============================] - 4s 363us/step - loss: 0.4267 - acc: 0.8205 - val_loss: 0.4458 - val_acc: 0.8110\n",
      "Epoch 31/100\n",
      "10000/10000 [==============================] - 4s 365us/step - loss: 0.4134 - acc: 0.8237 - val_loss: 0.4338 - val_acc: 0.8040\n",
      "Epoch 32/100\n",
      "10000/10000 [==============================] - 4s 365us/step - loss: 0.4076 - acc: 0.8287 - val_loss: 0.4251 - val_acc: 0.8100\n",
      "Epoch 33/100\n",
      "10000/10000 [==============================] - 4s 364us/step - loss: 0.3924 - acc: 0.8376 - val_loss: 0.4168 - val_acc: 0.8150\n",
      "Epoch 34/100\n",
      "10000/10000 [==============================] - 4s 366us/step - loss: 0.3918 - acc: 0.8361 - val_loss: 0.4392 - val_acc: 0.8210\n",
      "Epoch 35/100\n",
      "10000/10000 [==============================] - 4s 365us/step - loss: 0.3827 - acc: 0.8382 - val_loss: 0.4103 - val_acc: 0.8270\n",
      "Epoch 36/100\n",
      "10000/10000 [==============================] - 4s 364us/step - loss: 0.3761 - acc: 0.8383 - val_loss: 0.4081 - val_acc: 0.8300\n",
      "Epoch 37/100\n",
      "10000/10000 [==============================] - 4s 362us/step - loss: 0.3696 - acc: 0.8434 - val_loss: 0.4226 - val_acc: 0.8260\n",
      "Epoch 38/100\n",
      "10000/10000 [==============================] - 4s 364us/step - loss: 0.3651 - acc: 0.8462 - val_loss: 0.3957 - val_acc: 0.8250\n",
      "Epoch 39/100\n",
      "10000/10000 [==============================] - 4s 365us/step - loss: 0.3631 - acc: 0.8423 - val_loss: 0.4038 - val_acc: 0.8290\n",
      "Epoch 40/100\n",
      "10000/10000 [==============================] - 4s 363us/step - loss: 0.3554 - acc: 0.8477 - val_loss: 0.4086 - val_acc: 0.8290\n",
      "Epoch 41/100\n",
      "10000/10000 [==============================] - 4s 365us/step - loss: 0.3543 - acc: 0.8472 - val_loss: 0.4073 - val_acc: 0.8280\n",
      "Epoch 42/100\n",
      "10000/10000 [==============================] - 4s 362us/step - loss: 0.3520 - acc: 0.8483 - val_loss: 0.4035 - val_acc: 0.8320\n",
      "Epoch 43/100\n",
      "10000/10000 [==============================] - 4s 362us/step - loss: 0.3463 - acc: 0.8509 - val_loss: 0.3857 - val_acc: 0.8290\n",
      "Epoch 44/100\n",
      "10000/10000 [==============================] - 4s 365us/step - loss: 0.3474 - acc: 0.8501 - val_loss: 0.3884 - val_acc: 0.8350\n",
      "Epoch 45/100\n",
      "10000/10000 [==============================] - 4s 367us/step - loss: 0.3400 - acc: 0.8544 - val_loss: 0.3964 - val_acc: 0.8290\n",
      "Epoch 46/100\n",
      "10000/10000 [==============================] - 4s 367us/step - loss: 0.3404 - acc: 0.8494 - val_loss: 0.4036 - val_acc: 0.8370\n",
      "Epoch 47/100\n",
      "10000/10000 [==============================] - 4s 367us/step - loss: 0.3407 - acc: 0.8518 - val_loss: 0.3913 - val_acc: 0.8350\n",
      "Epoch 48/100\n",
      "10000/10000 [==============================] - 4s 363us/step - loss: 0.3378 - acc: 0.8525 - val_loss: 0.3990 - val_acc: 0.8310\n",
      "Epoch 49/100\n",
      "10000/10000 [==============================] - 4s 366us/step - loss: 0.3344 - acc: 0.8529 - val_loss: 0.3983 - val_acc: 0.8240\n",
      "Epoch 50/100\n",
      "10000/10000 [==============================] - 4s 367us/step - loss: 0.3335 - acc: 0.8595 - val_loss: 0.4164 - val_acc: 0.8200\n",
      "Epoch 51/100\n",
      "10000/10000 [==============================] - 4s 363us/step - loss: 0.3296 - acc: 0.8552 - val_loss: 0.4031 - val_acc: 0.8280\n",
      "Epoch 52/100\n",
      "10000/10000 [==============================] - 4s 366us/step - loss: 0.3255 - acc: 0.8581 - val_loss: 0.3999 - val_acc: 0.8260\n",
      "Epoch 53/100\n",
      "10000/10000 [==============================] - 4s 363us/step - loss: 0.3221 - acc: 0.8599 - val_loss: 0.4078 - val_acc: 0.8290\n",
      "Epoch 54/100\n",
      "10000/10000 [==============================] - 4s 366us/step - loss: 0.3199 - acc: 0.8609 - val_loss: 0.3930 - val_acc: 0.8240\n",
      "Epoch 55/100\n",
      "10000/10000 [==============================] - 4s 368us/step - loss: 0.3129 - acc: 0.8651 - val_loss: 0.3764 - val_acc: 0.8280\n",
      "Epoch 56/100\n",
      "10000/10000 [==============================] - 4s 375us/step - loss: 0.3065 - acc: 0.8673 - val_loss: 0.3971 - val_acc: 0.8410\n",
      "Epoch 57/100\n",
      "10000/10000 [==============================] - 4s 364us/step - loss: 0.3076 - acc: 0.8679 - val_loss: 0.4035 - val_acc: 0.8150\n",
      "Epoch 58/100\n",
      "10000/10000 [==============================] - 4s 370us/step - loss: 0.3010 - acc: 0.8718 - val_loss: 0.3808 - val_acc: 0.8390\n",
      "Epoch 59/100\n",
      "10000/10000 [==============================] - 4s 363us/step - loss: 0.3021 - acc: 0.8689 - val_loss: 0.4005 - val_acc: 0.8370\n",
      "Epoch 60/100\n",
      "10000/10000 [==============================] - 4s 362us/step - loss: 0.2983 - acc: 0.8716 - val_loss: 0.3891 - val_acc: 0.8330\n",
      "Epoch 61/100\n",
      "10000/10000 [==============================] - 4s 373us/step - loss: 0.3006 - acc: 0.8701 - val_loss: 0.3953 - val_acc: 0.8310\n",
      "Epoch 62/100\n",
      "10000/10000 [==============================] - 4s 363us/step - loss: 0.2993 - acc: 0.8744 - val_loss: 0.3907 - val_acc: 0.8410\n",
      "Epoch 63/100\n",
      "10000/10000 [==============================] - 4s 365us/step - loss: 0.2972 - acc: 0.8713 - val_loss: 0.3849 - val_acc: 0.8360\n",
      "Epoch 64/100\n",
      "10000/10000 [==============================] - 4s 362us/step - loss: 0.2981 - acc: 0.8731 - val_loss: 0.3912 - val_acc: 0.8360\n",
      "Epoch 65/100\n",
      "10000/10000 [==============================] - 4s 363us/step - loss: 0.2934 - acc: 0.8740 - val_loss: 0.4026 - val_acc: 0.8310\n",
      "Epoch 66/100\n",
      "10000/10000 [==============================] - 4s 360us/step - loss: 0.2895 - acc: 0.8770 - val_loss: 0.3943 - val_acc: 0.8410\n",
      "Epoch 67/100\n",
      "10000/10000 [==============================] - 4s 360us/step - loss: 0.2840 - acc: 0.8777 - val_loss: 0.4030 - val_acc: 0.8350\n",
      "Epoch 68/100\n",
      "10000/10000 [==============================] - 4s 365us/step - loss: 0.2857 - acc: 0.8803 - val_loss: 0.3845 - val_acc: 0.8370\n",
      "Epoch 69/100\n",
      "10000/10000 [==============================] - 4s 363us/step - loss: 0.2849 - acc: 0.8782 - val_loss: 0.3913 - val_acc: 0.8420\n",
      "Epoch 70/100\n",
      "10000/10000 [==============================] - 4s 364us/step - loss: 0.2885 - acc: 0.8768 - val_loss: 0.3960 - val_acc: 0.8400\n",
      "Epoch 71/100\n",
      "10000/10000 [==============================] - 4s 359us/step - loss: 0.2788 - acc: 0.8794 - val_loss: 0.4449 - val_acc: 0.8300\n",
      "Epoch 72/100\n",
      "10000/10000 [==============================] - 4s 363us/step - loss: 0.2793 - acc: 0.8802 - val_loss: 0.4364 - val_acc: 0.8330\n",
      "Epoch 73/100\n",
      "10000/10000 [==============================] - 4s 359us/step - loss: 0.2806 - acc: 0.8829 - val_loss: 0.4083 - val_acc: 0.8350\n",
      "Epoch 74/100\n",
      "10000/10000 [==============================] - 4s 360us/step - loss: 0.2803 - acc: 0.8780 - val_loss: 0.4272 - val_acc: 0.8340\n",
      "Epoch 75/100\n",
      "10000/10000 [==============================] - 4s 362us/step - loss: 0.2746 - acc: 0.8825 - val_loss: 0.4136 - val_acc: 0.8310\n",
      "Epoch 76/100\n",
      "10000/10000 [==============================] - 4s 362us/step - loss: 0.2807 - acc: 0.8824 - val_loss: 0.4231 - val_acc: 0.8240\n",
      "Epoch 77/100\n",
      "10000/10000 [==============================] - 4s 363us/step - loss: 0.2695 - acc: 0.8828 - val_loss: 0.4225 - val_acc: 0.8330\n",
      "Epoch 78/100\n",
      "10000/10000 [==============================] - 4s 362us/step - loss: 0.2786 - acc: 0.8807 - val_loss: 0.4184 - val_acc: 0.8230\n",
      "Epoch 79/100\n",
      "10000/10000 [==============================] - 4s 359us/step - loss: 0.2719 - acc: 0.8847 - val_loss: 0.4089 - val_acc: 0.8230\n",
      "Epoch 80/100\n",
      "10000/10000 [==============================] - 4s 360us/step - loss: 0.2706 - acc: 0.8832 - val_loss: 0.4579 - val_acc: 0.8260\n",
      "Epoch 81/100\n",
      "10000/10000 [==============================] - 4s 362us/step - loss: 0.2729 - acc: 0.8845 - val_loss: 0.4220 - val_acc: 0.8310\n",
      "Epoch 82/100\n",
      "10000/10000 [==============================] - 4s 362us/step - loss: 0.2707 - acc: 0.8830 - val_loss: 0.4217 - val_acc: 0.8320\n",
      "Epoch 83/100\n",
      "10000/10000 [==============================] - 4s 363us/step - loss: 0.2693 - acc: 0.8860 - val_loss: 0.4485 - val_acc: 0.8380\n",
      "Epoch 84/100\n",
      "10000/10000 [==============================] - 4s 365us/step - loss: 0.2688 - acc: 0.8821 - val_loss: 0.4337 - val_acc: 0.8320\n",
      "Epoch 85/100\n",
      "10000/10000 [==============================] - 4s 364us/step - loss: 0.2682 - acc: 0.8875 - val_loss: 0.4440 - val_acc: 0.8300\n",
      "Epoch 86/100\n",
      "10000/10000 [==============================] - 4s 369us/step - loss: 0.2689 - acc: 0.8857 - val_loss: 0.4402 - val_acc: 0.8320\n",
      "Epoch 87/100\n",
      "10000/10000 [==============================] - 4s 390us/step - loss: 0.2655 - acc: 0.8870 - val_loss: 0.4398 - val_acc: 0.8380\n",
      "Epoch 88/100\n",
      "10000/10000 [==============================] - 4s 420us/step - loss: 0.2669 - acc: 0.8863 - val_loss: 0.4386 - val_acc: 0.8290\n",
      "Epoch 89/100\n",
      "10000/10000 [==============================] - 4s 386us/step - loss: 0.2673 - acc: 0.8865 - val_loss: 0.4755 - val_acc: 0.8380\n",
      "Epoch 90/100\n",
      "10000/10000 [==============================] - 4s 393us/step - loss: 0.2656 - acc: 0.8888 - val_loss: 0.4502 - val_acc: 0.8200\n",
      "Epoch 91/100\n",
      "10000/10000 [==============================] - 4s 380us/step - loss: 0.2584 - acc: 0.8893 - val_loss: 0.4751 - val_acc: 0.8350\n",
      "Epoch 92/100\n",
      "10000/10000 [==============================] - 4s 383us/step - loss: 0.2606 - acc: 0.8895 - val_loss: 0.4442 - val_acc: 0.8310\n",
      "Epoch 93/100\n",
      "10000/10000 [==============================] - 4s 380us/step - loss: 0.2550 - acc: 0.8928 - val_loss: 0.4589 - val_acc: 0.8250\n",
      "Epoch 94/100\n",
      "10000/10000 [==============================] - 4s 379us/step - loss: 0.2588 - acc: 0.8880 - val_loss: 0.4300 - val_acc: 0.8220\n",
      "Epoch 95/100\n",
      "10000/10000 [==============================] - 4s 377us/step - loss: 0.2581 - acc: 0.8903 - val_loss: 0.4570 - val_acc: 0.8230\n",
      "Epoch 96/100\n",
      "10000/10000 [==============================] - 4s 377us/step - loss: 0.2551 - acc: 0.8910 - val_loss: 0.4815 - val_acc: 0.8250\n",
      "Epoch 97/100\n",
      "10000/10000 [==============================] - 4s 378us/step - loss: 0.2559 - acc: 0.8926 - val_loss: 0.4552 - val_acc: 0.8290\n",
      "Epoch 98/100\n",
      "10000/10000 [==============================] - 4s 369us/step - loss: 0.2573 - acc: 0.8925 - val_loss: 0.4581 - val_acc: 0.8270\n",
      "Epoch 99/100\n",
      "10000/10000 [==============================] - 4s 374us/step - loss: 0.2493 - acc: 0.8947 - val_loss: 0.4684 - val_acc: 0.8330\n",
      "Epoch 100/100\n",
      "10000/10000 [==============================] - 4s 374us/step - loss: 0.2534 - acc: 0.8944 - val_loss: 0.4438 - val_acc: 0.8280\n"
     ]
    }
   ],
   "source": [
    "# train\n",
    "history = model.fit([inputs_train, queries_train], answers_train,batch_size=32,epochs=100,validation_data=([inputs_test, queries_test], answers_test))"
   ]
  },
  {
   "cell_type": "markdown",
   "metadata": {},
   "source": [
    "### Saving the Model"
   ]
  },
  {
   "cell_type": "code",
   "execution_count": 56,
   "metadata": {
    "collapsed": true
   },
   "outputs": [],
   "source": [
    "filename = 'chatbot_10.h5'\n",
    "model.save(filename)"
   ]
  },
  {
   "cell_type": "markdown",
   "metadata": {},
   "source": [
    "## Evaluating the Model\n",
    "\n",
    "### Plotting Out Training History"
   ]
  },
  {
   "cell_type": "code",
   "execution_count": 57,
   "metadata": {},
   "outputs": [
    {
     "name": "stdout",
     "output_type": "stream",
     "text": [
      "dict_keys(['val_loss', 'val_acc', 'loss', 'acc'])\n"
     ]
    },
    {
     "data": {
      "image/png": "[encoded data removed]",
      "text/plain": [
       "<Figure size 432x288 with 1 Axes>"
      ]
     },
     "metadata": {},
     "output_type": "display_data"
    }
   ],
   "source": [
    "import matplotlib.pyplot as plt\n",
    "%matplotlib inline\n",
    "print(history.history.keys())\n",
    "# summarize history for accuracy\n",
    "plt.plot(history.history['acc'])\n",
    "plt.plot(history.history['val_acc'])\n",
    "plt.title('model accuracy')\n",
    "plt.ylabel('accuracy')\n",
    "plt.xlabel('epoch')\n",
    "plt.legend(['train', 'test'], loc='upper left')\n",
    "plt.show()"
   ]
  },
  {
   "cell_type": "markdown",
   "metadata": {},
   "source": [
    "### Evaluating on Given Test Set"
   ]
  },
  {
   "cell_type": "code",
   "execution_count": 58,
   "metadata": {
    "collapsed": true
   },
   "outputs": [],
   "source": [
    "model.load_weights(filename)\n",
    "pred_results = model.predict(([inputs_test, queries_test]))"
   ]
  },
  {
   "cell_type": "code",
   "execution_count": 59,
   "metadata": {},
   "outputs": [
    {
     "data": {
      "text/plain": [
       "['Mary',\n",
       " 'got',\n",
       " 'the',\n",
       " 'milk',\n",
       " 'there',\n",
       " '.',\n",
       " 'John',\n",
       " 'moved',\n",
       " 'to',\n",
       " 'the',\n",
       " 'bedroom',\n",
       " '.']"
      ]
     },
     "execution_count": 59,
     "metadata": {},
     "output_type": "execute_result"
    }
   ],
   "source": [
    "test_data[0][0]"
   ]
  },
  {
   "cell_type": "code",
   "execution_count": 60,
   "metadata": {},
   "outputs": [
    {
     "name": "stdout",
     "output_type": "stream",
     "text": [
      "Mary got the milk there . John moved to the bedroom .\n"
     ]
    }
   ],
   "source": [
    "story =' '.join(word for word in test_data[0][0])\n",
    "print(story)"
   ]
  },
  {
   "cell_type": "code",
   "execution_count": 61,
   "metadata": {},
   "outputs": [
    {
     "name": "stdout",
     "output_type": "stream",
     "text": [
      "Is John in the kitchen ?\n"
     ]
    }
   ],
   "source": [
    "query = ' '.join(word for word in test_data[0][1])\n",
    "print(query)"
   ]
  },
  {
   "cell_type": "code",
   "execution_count": 62,
   "metadata": {},
   "outputs": [
    {
     "name": "stdout",
     "output_type": "stream",
     "text": [
      "True Test Answer from Data is: no\n"
     ]
    }
   ],
   "source": [
    "print(\"True Test Answer from Data is:\",test_data[0][2])"
   ]
  },
  {
   "cell_type": "code",
   "execution_count": 65,
   "metadata": {},
   "outputs": [
    {
     "name": "stdout",
     "output_type": "stream",
     "text": [
      "Predicted answer is:  no\n",
      "Probability of certainty was:  0.9999956\n"
     ]
    }
   ],
   "source": [
    "#Generate prediction from model\n",
    "val_max = np.argmax(pred_results[0])\n",
    "\n",
    "for key, val in tokenizer.word_index.items():\n",
    "    if val == val_max:\n",
    "        k = key\n",
    "\n",
    "print(\"Predicted answer is: \", k)\n",
    "print(\"Probability of certainty was: \", pred_results[0][val_max])"
   ]
  },
  {
   "cell_type": "markdown",
   "metadata": {},
   "source": [
    "## Writing Your Own Stories and Questions\n",
    "\n",
    "Remember you can only use words from the existing vocab"
   ]
  },
  {
   "cell_type": "code",
   "execution_count": 66,
   "metadata": {},
   "outputs": [
    {
     "data": {
      "text/plain": [
       "{'.',\n",
       " '?',\n",
       " 'Daniel',\n",
       " 'Is',\n",
       " 'John',\n",
       " 'Mary',\n",
       " 'Sandra',\n",
       " 'apple',\n",
       " 'back',\n",
       " 'bathroom',\n",
       " 'bedroom',\n",
       " 'discarded',\n",
       " 'down',\n",
       " 'dropped',\n",
       " 'football',\n",
       " 'garden',\n",
       " 'got',\n",
       " 'grabbed',\n",
       " 'hallway',\n",
       " 'in',\n",
       " 'journeyed',\n",
       " 'kitchen',\n",
       " 'left',\n",
       " 'milk',\n",
       " 'moved',\n",
       " 'no',\n",
       " 'office',\n",
       " 'picked',\n",
       " 'put',\n",
       " 'the',\n",
       " 'there',\n",
       " 'to',\n",
       " 'took',\n",
       " 'travelled',\n",
       " 'up',\n",
       " 'went',\n",
       " 'yes'}"
      ]
     },
     "execution_count": 66,
     "metadata": {},
     "output_type": "execute_result"
    }
   ],
   "source": [
    "vocab"
   ]
  },
  {
   "cell_type": "code",
   "execution_count": 71,
   "metadata": {},
   "outputs": [
    {
     "data": {
      "text/plain": [
       "['John',\n",
       " 'left',\n",
       " 'the',\n",
       " 'kitchen',\n",
       " '.',\n",
       " 'Sandra',\n",
       " 'dropped',\n",
       " 'the',\n",
       " 'football',\n",
       " 'in',\n",
       " 'the',\n",
       " 'garden',\n",
       " '.']"
      ]
     },
     "execution_count": 71,
     "metadata": {},
     "output_type": "execute_result"
    }
   ],
   "source": [
    "# Note the whitespace of the periods\n",
    "my_story = \"John left the kitchen . Sandra dropped the football in the garden .\"\n",
    "my_story.split()"
   ]
  },
  {
   "cell_type": "code",
   "execution_count": 72,
   "metadata": {
    "collapsed": true
   },
   "outputs": [],
   "source": [
    "my_question = \"Is the football in the garden ?\""
   ]
  },
  {
   "cell_type": "code",
   "execution_count": 77,
   "metadata": {},
   "outputs": [
    {
     "data": {
      "text/plain": [
       "['Is', 'the', 'football', 'in', 'the', 'garden', '?']"
      ]
     },
     "execution_count": 77,
     "metadata": {},
     "output_type": "execute_result"
    }
   ],
   "source": [
    "my_question.split()"
   ]
  },
  {
   "cell_type": "code",
   "execution_count": 93,
   "metadata": {
    "collapsed": true
   },
   "outputs": [],
   "source": [
    "mydata = [(my_story.split(),my_question.split(),'yes')]"
   ]
  },
  {
   "cell_type": "code",
   "execution_count": 101,
   "metadata": {
    "collapsed": true
   },
   "outputs": [],
   "source": [
    "my_story,my_ques,my_ans = vectorize_stories(mydata)"
   ]
  },
  {
   "cell_type": "code",
   "execution_count": 112,
   "metadata": {
    "collapsed": true
   },
   "outputs": [],
   "source": [
    "pred_results = model.predict(([ my_story, my_ques]))"
   ]
  },
  {
   "cell_type": "code",
   "execution_count": 114,
   "metadata": {},
   "outputs": [
    {
     "name": "stdout",
     "output_type": "stream",
     "text": [
      "Predicted answer is:  yes\n",
      "Probability of certainty was:  0.9398415\n"
     ]
    }
   ],
   "source": [
    "#Generate prediction from model\n",
    "val_max = np.argmax(pred_results[0])\n",
    "\n",
    "for key, val in tokenizer.word_index.items():\n",
    "    if val == val_max:\n",
    "        k = key\n",
    "\n",
    "print(\"Predicted answer is: \", k)\n",
    "print(\"Probability of certainty was: \", pred_results[0][val_max])"
   ]
  },
  {
   "cell_type": "markdown",
   "metadata": {},
   "source": [
    "# Great Job!"
   ]
  }
 ],
 "metadata": {
  "kernelspec": {
   "display_name": "Python 3",
   "language": "python",
   "name": "python3"
  },
  "language_info": {
   "codemirror_mode": {
    "name": "ipython",
    "version": 3
   },
   "file_extension": ".py",
   "mimetype": "text/x-python",
   "name": "python",
   "nbconvert_exporter": "python",
   "pygments_lexer": "ipython3",
   "version": "3.6.6"
  }
 },
 "nbformat": 4,
 "nbformat_minor": 2
}
